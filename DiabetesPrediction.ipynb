{
  "nbformat": 4,
  "nbformat_minor": 0,
  "metadata": {
    "colab": {
      "provenance": [],
      "include_colab_link": true
    },
    "kernelspec": {
      "name": "python3",
      "display_name": "Python 3"
    },
    "language_info": {
      "name": "python"
    }
  },
  "cells": [
    {
      "cell_type": "markdown",
      "metadata": {
        "id": "view-in-github",
        "colab_type": "text"
      },
      "source": [
        "<a href=\"https://colab.research.google.com/github/aksaksham108/DiabetesPredictionModel/blob/main/DiabetesPrediction.ipynb\" target=\"_parent\"><img src=\"https://colab.research.google.com/assets/colab-badge.svg\" alt=\"Open In Colab\"/></a>"
      ]
    },
    {
      "cell_type": "code",
      "execution_count": null,
      "metadata": {
        "id": "NSQGqWPR1pdE"
      },
      "outputs": [],
      "source": [
        "import numpy as np\n",
        "import pandas as pd\n",
        "from sklearn.preprocessing import StandardScaler #standarize the data\n",
        "from sklearn.model_selection import train_test_split #separtin of training and testing data\n",
        "from sklearn import svm #training model\n",
        "from sklearn.metrics import accuracy_score #evaluation"
      ]
    },
    {
      "cell_type": "code",
      "source": [
        "# loading the diabetes dataset into pandas DataFrame\n",
        "diabetes_dataset = pd.read_csv('/content/diabetes_dataset.csv')"
      ],
      "metadata": {
        "id": "b0MKnGUP2FyT"
      },
      "execution_count": null,
      "outputs": []
    },
    {
      "cell_type": "code",
      "source": [
        "pd.read_csv?"
      ],
      "metadata": {
        "id": "-Qc4L6Iz34Lc"
      },
      "execution_count": null,
      "outputs": []
    },
    {
      "cell_type": "code",
      "source": [
        "diabetes_dataset.fillna(diabetes_dataset.mean(), inplace=True)  # Fill missing values with mean\n",
        "# diabetes_dataset.dropna(inplace=True)  # Drop missing values"
      ],
      "metadata": {
        "id": "BGwHXISuBESE"
      },
      "execution_count": null,
      "outputs": []
    },
    {
      "cell_type": "code",
      "source": [
        "# first 5 rows\n",
        "diabetes_dataset.head()"
      ],
      "metadata": {
        "id": "aTmdmDyA4QiX"
      },
      "execution_count": null,
      "outputs": []
    },
    {
      "cell_type": "code",
      "source": [
        "# Last 5 rows\n",
        "diabetes_dataset.tail()"
      ],
      "metadata": {
        "id": "K-0j1Hg74l7S"
      },
      "execution_count": null,
      "outputs": []
    },
    {
      "cell_type": "code",
      "source": [
        "# Summary of dataset\n",
        "diabetes_dataset.info()"
      ],
      "metadata": {
        "id": "tBS92li84qgZ"
      },
      "execution_count": null,
      "outputs": []
    },
    {
      "cell_type": "code",
      "source": [
        "#statistical summary\n",
        "diabetes_dataset.describe()"
      ],
      "metadata": {
        "id": "8Be64sx64ymA"
      },
      "execution_count": null,
      "outputs": []
    },
    {
      "cell_type": "code",
      "source": [
        "#tells us the number of rows and columns\n",
        "diabetes_dataset.shape"
      ],
      "metadata": {
        "id": "Oo2r6fdb5Uwx"
      },
      "execution_count": null,
      "outputs": []
    },
    {
      "cell_type": "code",
      "source": [
        "diabetes_dataset.sort_values('Insulin', ascending=False)  # Sort by column"
      ],
      "metadata": {
        "id": "8rm4hx6D6Acw"
      },
      "execution_count": null,
      "outputs": []
    },
    {
      "cell_type": "code",
      "source": [
        "diabetes_dataset['Outcome'].value_counts()"
      ],
      "metadata": {
        "id": "WWRc89YU6lk-"
      },
      "execution_count": null,
      "outputs": []
    },
    {
      "cell_type": "markdown",
      "source": [
        "0 --> NON-DIABETIC\n",
        "\n",
        "1 --> DIABETIC"
      ],
      "metadata": {
        "id": "O0NCCgNmRs7F"
      }
    },
    {
      "cell_type": "code",
      "source": [
        "diabetes_dataset.groupby('Outcome').mean()"
      ],
      "metadata": {
        "id": "A6cMmD-uRiBJ"
      },
      "execution_count": null,
      "outputs": []
    },
    {
      "cell_type": "code",
      "source": [
        "# separating the labels and data\n",
        "X = diabetes_dataset.drop(columns = 'Outcome', axis=1) # axis=0 (row) and axis=1 (column)\n",
        "Y = diabetes_dataset['Outcome']"
      ],
      "metadata": {
        "id": "aKi__64JR_Oe"
      },
      "execution_count": null,
      "outputs": []
    },
    {
      "cell_type": "code",
      "source": [
        "print(X)"
      ],
      "metadata": {
        "id": "gKrBJoMDTiaX"
      },
      "execution_count": null,
      "outputs": []
    },
    {
      "cell_type": "code",
      "source": [
        "print(Y)"
      ],
      "metadata": {
        "id": "JB-75Kl6TpGP"
      },
      "execution_count": null,
      "outputs": []
    },
    {
      "cell_type": "markdown",
      "source": [
        "Data Standardization --> It means the data is in range from (0 to 1) or (-1 to 1)."
      ],
      "metadata": {
        "id": "JzGhnJgzUr7e"
      }
    },
    {
      "cell_type": "code",
      "source": [
        "scaler = StandardScaler()"
      ],
      "metadata": {
        "id": "ucRFNsuGTsgy"
      },
      "execution_count": null,
      "outputs": []
    },
    {
      "cell_type": "code",
      "source": [
        "standardized_data = scaler.fit_transform(X)"
      ],
      "metadata": {
        "id": "LAFfGA_JUz8u"
      },
      "execution_count": null,
      "outputs": []
    },
    {
      "cell_type": "code",
      "source": [
        "X= standardized_data\n",
        "Y = diabetes_dataset['Outcome']"
      ],
      "metadata": {
        "id": "NoZ8gGzPVGYg"
      },
      "execution_count": null,
      "outputs": []
    },
    {
      "cell_type": "code",
      "source": [
        "print(X)\n",
        "print(Y)"
      ],
      "metadata": {
        "id": "m3Tx1RDbVTWj"
      },
      "execution_count": null,
      "outputs": []
    },
    {
      "cell_type": "markdown",
      "source": [
        "Train Test Split"
      ],
      "metadata": {
        "id": "MOCFKs1UVsg_"
      }
    },
    {
      "cell_type": "code",
      "source": [
        "# test size means 20 % for testing and rest 80% for training the model.\n",
        "X_train, X_test, Y_train, Y_test = train_test_split(X, Y, test_size = 0.2, stratify=Y, random_state=2)"
      ],
      "metadata": {
        "id": "FNvzY8TdVXAX"
      },
      "execution_count": null,
      "outputs": []
    },
    {
      "cell_type": "code",
      "source": [
        "print(X.shape, X_train.shape, X_test.shape)\n",
        "print(Y.shape, Y_train.shape, Y_test.shape)"
      ],
      "metadata": {
        "id": "R7Y04zi6yfhU"
      },
      "execution_count": null,
      "outputs": []
    },
    {
      "cell_type": "markdown",
      "source": [
        "Training the Model"
      ],
      "metadata": {
        "id": "rabdkpo_zoju"
      }
    },
    {
      "cell_type": "code",
      "source": [
        "# SVC - Support Vector Classifier (function of svm module of sklearn library)\n",
        "classifier = svm.SVC(kernel='linear')"
      ],
      "metadata": {
        "id": "a4vNhEV7ykWi"
      },
      "execution_count": null,
      "outputs": []
    },
    {
      "cell_type": "code",
      "source": [
        "#training the support vector machine classifier(model)\n",
        "classifier.fit(X_train, Y_train)"
      ],
      "metadata": {
        "id": "BvaFphz7z736"
      },
      "execution_count": null,
      "outputs": []
    },
    {
      "cell_type": "markdown",
      "source": [
        "Model Evaluation"
      ],
      "metadata": {
        "id": "Cui92GIB0aqT"
      }
    },
    {
      "cell_type": "markdown",
      "source": [
        "Accuracy Store"
      ],
      "metadata": {
        "id": "4TnZUm7m0hJ6"
      }
    },
    {
      "cell_type": "code",
      "source": [
        "#accuracy score on the training data\n",
        "X_train_prediction = classifier.predict(X_train)\n",
        "training_data_accuracy = accuracy_score(X_train_prediction, Y_train)"
      ],
      "metadata": {
        "id": "kl6rGM4_0ciF"
      },
      "execution_count": null,
      "outputs": []
    },
    {
      "cell_type": "code",
      "source": [
        "print('Accuracy of the training data: ',training_data_accuracy)"
      ],
      "metadata": {
        "id": "78Du6AcK3npz"
      },
      "execution_count": null,
      "outputs": []
    },
    {
      "cell_type": "code",
      "source": [
        "#accuracy score on the testing data\n",
        "X_test_prediction = classifier.predict(X_test)\n",
        "testing_data_accuracy = accuracy_score(X_test_prediction, Y_test)"
      ],
      "metadata": {
        "id": "8fl-XXU5351N"
      },
      "execution_count": null,
      "outputs": []
    },
    {
      "cell_type": "code",
      "source": [
        "print('Accuracy of the testing data: ',testing_data_accuracy)"
      ],
      "metadata": {
        "id": "AtEVjaag3xSE"
      },
      "execution_count": null,
      "outputs": []
    },
    {
      "cell_type": "markdown",
      "source": [
        "Making a Predicting System"
      ],
      "metadata": {
        "id": "-x0jXjRw5I2V"
      }
    },
    {
      "cell_type": "code",
      "source": [
        "# example for non-diabetic\n",
        "input_data =  (9,182,44,2,7,36.7,2.143,47)\n",
        "\n",
        "# example for diabetic\n",
        "# input_data =  (14,106,54,41,708,45.6,1.026,21)\n",
        "\n",
        "# chainging input data to numpy array\n",
        "input_data_as_numpy_array = np.asarray(input_data)\n",
        "\n",
        "#reshape the array as we are predicting for one instance\n",
        "input_data_reshaped = input_data_as_numpy_array.reshape(1,-1)\n",
        "\n",
        "#standardize the input data\n",
        "std_data = scaler.transform(input_data_reshaped)\n",
        "print(std_data)\n",
        "\n",
        "prediction = classifier.predict(std_data)\n",
        "print(prediction)\n",
        "\n",
        "if (prediction[0] == 0):\n",
        "  print('The person is not diabetic')\n",
        "else:\n",
        "  print('The person is diabetic')"
      ],
      "metadata": {
        "id": "S0HJTS8i5MHB"
      },
      "execution_count": null,
      "outputs": []
    }
  ]
}